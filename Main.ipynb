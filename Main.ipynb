{
 "cells": [
  {
   "cell_type": "code",
   "execution_count": 42,
   "id": "0aa25189-6f61-45c6-ac68-054d7d96c104",
   "metadata": {},
   "outputs": [],
   "source": [
    "from Preprocess import process_query_image_mc\n",
    "from models import load_model_from_db\n",
    "from load_feature_vec import load_features_from_db"
   ]
  },
  {
   "cell_type": "code",
   "execution_count": 43,
   "id": "ee95ac41-789b-4c0d-b4f3-ebde4fa796fa",
   "metadata": {},
   "outputs": [],
   "source": [
    "import os\n",
    "import numpy as np\n",
    "import tensorflow as tf\n",
    "from tensorflow.keras.preprocessing.image import ImageDataGenerator\n",
    "from tensorflow.keras.applications.efficientnet import EfficientNetB0, preprocess_input\n",
    "from tensorflow.keras.models import Model\n",
    "from tensorflow.keras.layers import GlobalAveragePooling2D\n",
    "from tensorflow.keras.preprocessing.image import load_img, img_to_array\n",
    "import pickle\n",
    "import pandas as pd\n",
    "import numpy as np\n",
    "from tensorflow.keras.models import load_model\n",
    "from tensorflow.keras.applications.efficientnet import preprocess_input\n",
    "from sklearn.metrics.pairwise import cosine_similarity"
   ]
  },
  {
   "cell_type": "code",
   "execution_count": 44,
   "id": "21d8f64d-56cd-4966-ada4-7483a61c4157",
   "metadata": {},
   "outputs": [],
   "source": [
    "df=pd.read_csv('csv_db/men_clothing_db.csv')\n",
    "df.columns=['index','sku','img1','img2','img3']"
   ]
  },
  {
   "cell_type": "code",
   "execution_count": 45,
   "id": "8f45f595-00b1-40b1-a418-9888d3734d55",
   "metadata": {},
   "outputs": [],
   "source": [
    "l1='Men'\n",
    "l2='Bags'"
   ]
  },
  {
   "cell_type": "code",
   "execution_count": 46,
   "id": "4a7fd1a9-b135-468a-a993-1e71b59dfd8f",
   "metadata": {},
   "outputs": [],
   "source": [
    "model = load_model_from_db('Men','Clothing')"
   ]
  },
  {
   "cell_type": "code",
   "execution_count": 47,
   "id": "e13f6257-7134-4a6d-8432-b59dea5fe7e9",
   "metadata": {},
   "outputs": [],
   "source": [
    "features,labels= load_features_from_db(l1,l2)"
   ]
  },
  {
   "cell_type": "code",
   "execution_count": 48,
   "id": "5706c4e3-6e25-4296-8cb5-57e4c6b8f9f1",
   "metadata": {},
   "outputs": [
    {
     "name": "stdout",
     "output_type": "stream",
     "text": [
      "WARNING:tensorflow:5 out of the last 6 calls to <function Model.make_predict_function.<locals>.predict_function at 0x1604ee3e0> triggered tf.function retracing. Tracing is expensive and the excessive number of tracings could be due to (1) creating @tf.function repeatedly in a loop, (2) passing tensors with different shapes, (3) passing Python objects instead of tensors. For (1), please define your @tf.function outside of the loop. For (2), @tf.function has reduce_retracing=True option that can avoid unnecessary retracing. For (3), please refer to https://www.tensorflow.org/guide/function#controlling_retracing and https://www.tensorflow.org/api_docs/python/tf/function for  more details.\n",
      "1/1 [==============================] - 2s 2s/step\n"
     ]
    }
   ],
   "source": [
    "query_image_path='query_images/mb_ex1.jpg'\n",
    "query_img = process_query_image_mc(query_image_path)\n",
    "query_features = model.predict(query_img)"
   ]
  },
  {
   "cell_type": "code",
   "execution_count": 49,
   "id": "e624f0d7-3edf-4c80-8f7b-0c41c160062c",
   "metadata": {},
   "outputs": [],
   "source": [
    "# Similarity search\n",
    "similarities = cosine_similarity(query_features, np.array(features))\n",
    "top_indices = np.argsort(similarities[0])[::-1][:40]  # Adjust the number as needed"
   ]
  },
  {
   "cell_type": "code",
   "execution_count": 50,
   "id": "f1db0682-dfd2-4c8e-9fff-d0434beca89e",
   "metadata": {},
   "outputs": [
    {
     "name": "stdout",
     "output_type": "stream",
     "text": [
      "Class: 23SERVIUS-220-BROWN, Similarity: 0.8052903413772583\n",
      "Class: 23SERVIUS-220-BROWN, Similarity: 0.6760282516479492\n",
      "Class: 23SERVIUS-001-BLACK, Similarity: 0.6706870794296265\n",
      "Class: NCLW303_BROWN, Similarity: 0.6554102897644043\n",
      "Class: HPMW9005_BROWN, Similarity: 0.6505453586578369\n",
      "Class: 107824312_BROWN, Similarity: 0.6414467096328735\n",
      "Class: 107824303_BROWN, Similarity: 0.6368734836578369\n",
      "Class: 107824303_BROWN, Similarity: 0.6348713636398315\n",
      "Class: 30POPPIN-251-BROWN, Similarity: 0.6292656660079956\n",
      "Class: HPW50108BR_BROWN, Similarity: 0.6249650716781616\n",
      "Class: 30POPPIN-251-BROWN, Similarity: 0.6232622861862183\n",
      "Class: AR73415901H23_BROWN, Similarity: 0.6223116517066956\n",
      "Class: 107824308_BROWN, Similarity: 0.6223026514053345\n",
      "Class: 107824312_BROWN, Similarity: 0.6212959289550781\n",
      "Class: CK6-K50K510316BAX, Similarity: 0.618470311164856\n",
      "Class: 11153-05694-OS_BLUE, Similarity: 0.6174196004867554\n",
      "Class: 107824308_BROWN, Similarity: 0.6171033382415771\n",
      "Class: CK6-K50K51030601I, Similarity: 0.6157540082931519\n",
      "Class: 107824301_BLACK, Similarity: 0.6153204441070557\n",
      "Class: HPMW9005_BROWN, Similarity: 0.6146157383918762\n",
      "Class: 10997-00919-OS_GREY, Similarity: 0.613197922706604\n",
      "Class: 107824278_BROWN, Similarity: 0.6123586297035217\n",
      "Class: 11161-04775-OS_BLACK, Similarity: 0.612056314945221\n",
      "Class: 107824278_BROWN, Similarity: 0.6117470264434814\n",
      "Class: CK6-K50K510316BAX, Similarity: 0.6116960048675537\n",
      "Class: 11161-05733-OS_GREEN, Similarity: 0.610722541809082\n",
      "Class: 30067-04488-OS_GREEN, Similarity: 0.6095357537269592\n",
      "Class: 107824302_RED, Similarity: 0.609394907951355\n",
      "Class: BP-MW202210-12-BROWN, Similarity: 0.6075414419174194\n",
      "Class: 11150-04488-OS_GREEN, Similarity: 0.6063051223754883\n",
      "Class: 107824314_BLACK, Similarity: 0.6053115129470825\n",
      "Class: BP-MW202210-1-BROWN, Similarity: 0.6050869226455688\n",
      "Class: 107824296_GREY, Similarity: 0.6045884490013123\n",
      "Class: 30068-00055-OS_BLACK, Similarity: 0.6044540405273438\n",
      "Class: 10363-05694-OS_BLUE, Similarity: 0.6041523218154907\n",
      "Class: 107824313_NAVY, Similarity: 0.604115903377533\n",
      "Class: 107824301_BLACK, Similarity: 0.6029170155525208\n",
      "Class: 11149-05432-OS_BLUE, Similarity: 0.6025686264038086\n",
      "Class: 23SERVIUS-001-BLACK, Similarity: 0.6022500991821289\n",
      "Class: 107824306_BROWN, Similarity: 0.6017401218414307\n"
     ]
    }
   ],
   "source": [
    "# Displaying results\n",
    "for i in top_indices:\n",
    "    print(f\"Class: {labels[i]}, Similarity: {similarities[0][i]}\")"
   ]
  },
  {
   "cell_type": "code",
   "execution_count": null,
   "id": "721373ff-3a37-4482-a248-1e0ff6df3fbb",
   "metadata": {},
   "outputs": [],
   "source": []
  }
 ],
 "metadata": {
  "kernelspec": {
   "display_name": "Python 3 (ipykernel)",
   "language": "python",
   "name": "python3"
  },
  "language_info": {
   "codemirror_mode": {
    "name": "ipython",
    "version": 3
   },
   "file_extension": ".py",
   "mimetype": "text/x-python",
   "name": "python",
   "nbconvert_exporter": "python",
   "pygments_lexer": "ipython3",
   "version": "3.11.5"
  }
 },
 "nbformat": 4,
 "nbformat_minor": 5
}
